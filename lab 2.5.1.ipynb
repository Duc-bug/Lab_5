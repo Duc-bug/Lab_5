{
 "cells": [
  {
   "cell_type": "code",
   "execution_count": 1,
   "id": "5a978e9b",
   "metadata": {},
   "outputs": [
    {
     "data": {
      "image/png": "[encoded data removed]",
      "text/plain": [
       "<Figure size 640x480 with 1 Axes>"
      ]
     },
     "metadata": {},
     "output_type": "display_data"
    }
   ],
   "source": [
    "#Dò tìm đường thẳng trong ảnh\n",
    "import numpy as np\n",
    "import cv2\n",
    "import imageio.v2 as iio\n",
    "import scipy.ndimage as nd\n",
    "from skimage.morphology import label\n",
    "from skimage.measure import regionprops\n",
    "import matplotlib.pylab as plt\n",
    "import matplotlib.patches as mpatches\n",
    "from skimage.filters.thresholding import threshold_otsu\n",
    "\n",
    "def LineHough(data, gamma):\n",
    "    V, H = data.shape\n",
    "    R = int(np.sqrt(V * V + H * H))\n",
    "    ho = np.zeros((R, 90), float)  # Hough space\n",
    "    w = data + 0\n",
    "    ok = 1\n",
    "    theta = np.arange(90) / 180.0 * np.pi\n",
    "    tp = np.arange(90).astype(float)\n",
    "    while ok:\n",
    "        mx = w.max()\n",
    "        if mx < gamma:\n",
    "            ok = 0\n",
    "        else:\n",
    "            v, h = divmod(w.argmax(), H)\n",
    "            y = V - v\n",
    "            x = h\n",
    "            rh = x * np.cos(theta) + y * np.sin(theta)\n",
    "            for i in range(len(rh)):\n",
    "                if 0 <= rh[i] < R and 0 <= tp[i] < 90:\n",
    "                    ho[int(rh[i]), int(tp[i])] += mx\n",
    "            w[v, h] = 0\n",
    "    return ho\n",
    "\n",
    "data = np.zeros((256, 256))\n",
    "data[128, 128] = 1\n",
    "bmg = LineHough(data, 0.5)\n",
    "plt.imshow(bmg)\n",
    "plt.show()"
   ]
  }
 ],
 "metadata": {
  "kernelspec": {
   "display_name": "base",
   "language": "python",
   "name": "python3"
  },
  "language_info": {
   "codemirror_mode": {
    "name": "ipython",
    "version": 3
   },
   "file_extension": ".py",
   "mimetype": "text/x-python",
   "name": "python",
   "nbconvert_exporter": "python",
   "pygments_lexer": "ipython3",
   "version": "3.12.7"
  }
 },
 "nbformat": 4,
 "nbformat_minor": 5
}
