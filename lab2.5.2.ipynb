{
 "cells": [
  {
   "cell_type": "code",
   "execution_count": null,
   "id": "945c7637",
   "metadata": {},
   "outputs": [],
   "source": [
    "#Dò tìm đường tròn trong ảnh\n",
    "from PIL import Image\n",
    "import numpy as np\n",
    "import cv2\n",
    "import imageio.v2 as iio\n",
    "import scipy.ndimage as nd\n",
    "from skimage.morphology import label\n",
    "from skimage.measure import regionprops\n",
    "import matplotlib.pylab as plt\n",
    "import matplotlib.patches as mpatches\n",
    "from skimage.feature import corner_harris\n",
    "from skimage.color import rgb2gray\n",
    "\n",
    "data = iio.imread('bird.png')\n",
    "image_gray = rgb2gray(data)\n",
    "coordinate = corner_harris(image_gray, k=0.001)\n",
    "\n",
    "plt.figure(figsize=(20, 10))\n",
    "plt.imshow(coordinate)\n",
    "plt.axis('off')\n",
    "plt.show()"
   ]
  }
 ],
 "metadata": {
  "language_info": {
   "name": "python"
  }
 },
 "nbformat": 4,
 "nbformat_minor": 5
}
